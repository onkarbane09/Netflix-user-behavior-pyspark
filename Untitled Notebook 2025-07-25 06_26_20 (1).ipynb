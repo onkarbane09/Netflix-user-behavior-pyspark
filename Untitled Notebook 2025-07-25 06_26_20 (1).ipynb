{
 "cells": [
  {
   "cell_type": "code",
   "execution_count": 0,
   "metadata": {
    "application/vnd.databricks.v1+cell": {
     "cellMetadata": {
      "byteLimit": 2048000,
      "rowLimit": 10000
     },
     "inputWidgets": {},
     "nuid": "d77dbeb1-8915-4851-b9d3-0c0f4b03757b",
     "showTitle": false,
     "tableResultSettingsMap": {},
     "title": ""
    }
   },
   "outputs": [],
   "source": []
  },
  {
   "cell_type": "code",
   "execution_count": 0,
   "metadata": {
    "application/vnd.databricks.v1+cell": {
     "cellMetadata": {
      "byteLimit": 2048000,
      "rowLimit": 10000
     },
     "inputWidgets": {},
     "nuid": "8061c30c-5792-4a0a-9487-e9582b968c09",
     "showTitle": false,
     "tableResultSettingsMap": {},
     "title": ""
    }
   },
   "outputs": [],
   "source": [
    "from pyspark.sql import SparkSession\n",
    "\n",
    "\n",
    "spark = SparkSession.builder.appName(\"NetflixUserBehavior\").getOrCreate()\n",
    "\n",
    "\n",
    "df = spark.table(\"netflix_users\")\n",
    "\n",
    "\n",
    "df.show(5)\n"
   ]
  },
  {
   "cell_type": "code",
   "execution_count": 0,
   "metadata": {
    "application/vnd.databricks.v1+cell": {
     "cellMetadata": {
      "byteLimit": 2048000,
      "rowLimit": 10000
     },
     "inputWidgets": {},
     "nuid": "99bbe7e8-b1be-4997-86b0-ccf67484bc9b",
     "showTitle": false,
     "tableResultSettingsMap": {},
     "title": ""
    }
   },
   "outputs": [],
   "source": [
    "df.printSchema()\n",
    "df.describe().show()\n"
   ]
  },
  {
   "cell_type": "code",
   "execution_count": 0,
   "metadata": {
    "application/vnd.databricks.v1+cell": {
     "cellMetadata": {
      "byteLimit": 2048000,
      "rowLimit": 10000
     },
     "inputWidgets": {},
     "nuid": "7b1d64cb-14df-4d0e-ab20-da64f73f88ac",
     "showTitle": false,
     "tableResultSettingsMap": {},
     "title": ""
    }
   },
   "outputs": [],
   "source": [
    "from pyspark.sql.functions import col, sum\n",
    "\n",
    "df.select([sum(col(c).isNull().cast(\"int\")).alias(c) for c in df.columns]).show()\n"
   ]
  },
  {
   "cell_type": "code",
   "execution_count": 0,
   "metadata": {
    "application/vnd.databricks.v1+cell": {
     "cellMetadata": {
      "byteLimit": 2048000,
      "rowLimit": 10000
     },
     "inputWidgets": {},
     "nuid": "898cc4a0-b316-42cd-a87c-fdd491c8e421",
     "showTitle": false,
     "tableResultSettingsMap": {},
     "title": ""
    }
   },
   "outputs": [],
   "source": [
    "\n",
    "df_clean = df.dropna()\n"
   ]
  },
  {
   "cell_type": "code",
   "execution_count": 0,
   "metadata": {
    "application/vnd.databricks.v1+cell": {
     "cellMetadata": {
      "byteLimit": 2048000,
      "rowLimit": 10000
     },
     "inputWidgets": {},
     "nuid": "92231043-e56e-4531-be10-b2e076a9047c",
     "showTitle": false,
     "tableResultSettingsMap": {},
     "title": ""
    }
   },
   "outputs": [],
   "source": [
    "df_clean.groupBy(\"Favorite_Genre\").count().orderBy(\"count\", ascending=False).show()\n"
   ]
  },
  {
   "cell_type": "code",
   "execution_count": 0,
   "metadata": {
    "application/vnd.databricks.v1+cell": {
     "cellMetadata": {
      "byteLimit": 2048000,
      "rowLimit": 10000
     },
     "inputWidgets": {},
     "nuid": "b9f8985f-8cef-43a3-95c2-2575f0e237d9",
     "showTitle": false,
     "tableResultSettingsMap": {},
     "title": ""
    }
   },
   "outputs": [],
   "source": [
    "df_clean.groupBy(\"Country\").count().orderBy(\"count\", ascending=False).show()\n"
   ]
  },
  {
   "cell_type": "code",
   "execution_count": 0,
   "metadata": {
    "application/vnd.databricks.v1+cell": {
     "cellMetadata": {
      "byteLimit": 2048000,
      "rowLimit": 10000
     },
     "inputWidgets": {},
     "nuid": "e9163582-ddc1-4cda-9b9f-6f1b3d7a1c11",
     "showTitle": false,
     "tableResultSettingsMap": {},
     "title": ""
    }
   },
   "outputs": [],
   "source": [
    "from pyspark.sql.functions import col\n",
    "\n",
    "df.groupBy(\"Favorite_Genre\") \\\n",
    "  .avg(\"Watch_Time_Hours\") \\\n",
    "  .orderBy(col(\"avg(Watch_Time_Hours)\").desc()) \\\n",
    "  .show()\n"
   ]
  },
  {
   "cell_type": "code",
   "execution_count": 0,
   "metadata": {
    "application/vnd.databricks.v1+cell": {
     "cellMetadata": {
      "byteLimit": 2048000,
      "rowLimit": 10000
     },
     "inputWidgets": {},
     "nuid": "fd5647e2-fbc6-4a1b-9e7a-9e1d80814b72",
     "showTitle": false,
     "tableResultSettingsMap": {},
     "title": ""
    }
   },
   "outputs": [
    {
     "output_type": "display_data",
     "data": {
      "text/html": [
       "<style scoped>\n",
       "  .table-result-container {\n",
       "    max-height: 300px;\n",
       "    overflow: auto;\n",
       "  }\n",
       "  table, th, td {\n",
       "    border: 1px solid black;\n",
       "    border-collapse: collapse;\n",
       "  }\n",
       "  th, td {\n",
       "    padding: 5px;\n",
       "  }\n",
       "  th {\n",
       "    text-align: left;\n",
       "  }\n",
       "</style><div class='table-result-container'><table class='table-result'><thead style='background-color: white'><tr><th>Favorite_Genre</th><th>avg(Watch_Time_Hours)</th></tr></thead><tbody><tr><td>Romance</td><td>506.89994960806285</td></tr><tr><td>Drama</td><td>504.4824228700831</td></tr><tr><td>Comedy</td><td>501.86875596742493</td></tr><tr><td>Documentary</td><td>500.69486798679935</td></tr><tr><td>Action</td><td>498.4951629980501</td></tr><tr><td>Sci-Fi</td><td>496.3793400868295</td></tr><tr><td>Horror</td><td>494.51764915161436</td></tr></tbody></table></div>"
      ]
     },
     "metadata": {
      "application/vnd.databricks.v1+output": {
       "addedWidgets": {},
       "aggData": [],
       "aggError": "",
       "aggOverflow": false,
       "aggSchema": [],
       "aggSeriesLimitReached": false,
       "aggType": "",
       "arguments": {},
       "columnCustomDisplayInfos": {},
       "data": [
        [
         "Romance",
         506.89994960806285
        ],
        [
         "Drama",
         504.4824228700831
        ],
        [
         "Comedy",
         501.86875596742493
        ],
        [
         "Documentary",
         500.69486798679935
        ],
        [
         "Action",
         498.4951629980501
        ],
        [
         "Sci-Fi",
         496.3793400868295
        ],
        [
         "Horror",
         494.51764915161436
        ]
       ],
       "datasetInfos": [],
       "dbfsResultPath": null,
       "isJsonSchema": true,
       "metadata": {},
       "overflow": false,
       "plotOptions": {
        "customPlotOptions": {},
        "displayType": "table",
        "pivotAggregation": null,
        "pivotColumns": null,
        "xColumns": null,
        "yColumns": null
       },
       "removedWidgets": [],
       "schema": [
        {
         "metadata": "{}",
         "name": "Favorite_Genre",
         "type": "\"string\""
        },
        {
         "metadata": "{\"__autoGeneratedAlias\": \"true\"}",
         "name": "avg(Watch_Time_Hours)",
         "type": "\"double\""
        }
       ],
       "type": "table"
      }
     },
     "output_type": "display_data"
    },
    {
     "output_type": "display_data",
     "data": {
      "text/plain": [
       "Databricks visualization. Run in Databricks to view."
      ]
     },
     "metadata": {
      "application/vnd.databricks.v1.subcommand+json": {
       "baseErrorDetails": null,
       "bindings": {},
       "collapsed": false,
       "command": "%python\n__backend_agg_display_orig = display\n__backend_agg_dfs = []\ndef __backend_agg_display_new(df):\n    __backend_agg_df_modules = [\"pandas.core.frame\", \"databricks.koalas.frame\", \"pyspark.sql.dataframe\", \"pyspark.pandas.frame\", \"pyspark.sql.connect.dataframe\"]\n    if (type(df).__module__ in __backend_agg_df_modules and type(df).__name__ == 'DataFrame') or isinstance(df, list):\n        __backend_agg_dfs.append(df)\n\ndisplay = __backend_agg_display_new\n\ndef __backend_agg_user_code_fn():\n    import base64\n    exec(base64.standard_b64decode(\"cmVzdWx0ID0gZGYuZ3JvdXBCeSgiRmF2b3JpdGVfR2VucmUiKSBcCiAgICAgICAgICAgLmF2ZygiV2F0Y2hfVGltZV9Ib3VycyIpIFwKICAgICAgICAgICAub3JkZXJCeShjb2woImF2ZyhXYXRjaF9UaW1lX0hvdXJzKSIpLmRlc2MoKSkKCmRpc3BsYXkocmVzdWx0KQo=\").decode())\n\ntry:\n    # run user code\n    __backend_agg_user_code_fn()\n\n    #reset display function\n    display = __backend_agg_display_orig\n\n    if len(__backend_agg_dfs) > 0:\n        # create a temp view\n        if type(__backend_agg_dfs[0]).__module__ == \"databricks.koalas.frame\":\n            # koalas dataframe\n            __backend_agg_dfs[0].to_spark().createOrReplaceTempView(\"DatabricksView98db20b\")\n        elif type(__backend_agg_dfs[0]).__module__ == \"pandas.core.frame\" or isinstance(__backend_agg_dfs[0], list):\n            # pandas dataframe\n            spark.createDataFrame(__backend_agg_dfs[0]).createOrReplaceTempView(\"DatabricksView98db20b\")\n        else:\n            __backend_agg_dfs[0].createOrReplaceTempView(\"DatabricksView98db20b\")\n        #run backend agg\n        display(spark.sql(\"\"\"WITH q AS (select * from DatabricksView98db20b) SELECT `Favorite_Genre`,SUM(`avg(Watch_Time_Hours)`) `column_f7bc4033299` FROM q GROUP BY `Favorite_Genre`\"\"\"))\n    else:\n        displayHTML(\"dataframe no longer exists. If you're using dataframe.display(), use display(dataframe) instead.\")\n\n\nfinally:\n    spark.sql(\"drop view if exists DatabricksView98db20b\")\n    display = __backend_agg_display_orig\n    del __backend_agg_display_new\n    del __backend_agg_display_orig\n    del __backend_agg_dfs\n    del __backend_agg_user_code_fn\n\n",
       "commandTitle": "Visualization 1",
       "commandType": "auto",
       "commandVersion": 0,
       "commentThread": [],
       "commentsVisible": false,
       "contentSha256Hex": null,
       "customPlotOptions": {
        "redashChart": [
         {
          "key": "type",
          "value": "CHART"
         },
         {
          "key": "options",
          "value": {
           "alignYAxesAtZero": true,
           "coefficient": 1,
           "columnConfigurationMap": {
            "x": {
             "column": "Favorite_Genre",
             "id": "column_f7bc4033298"
            },
            "y": [
             {
              "column": "avg(Watch_Time_Hours)",
              "id": "column_f7bc4033299",
              "transform": "SUM"
             }
            ]
           },
           "dateTimeFormat": "DD/MM/YYYY HH:mm",
           "direction": {
            "type": "counterclockwise"
           },
           "error_y": {
            "type": "data",
            "visible": true
           },
           "globalSeriesType": "column",
           "legend": {
            "traceorder": "normal"
           },
           "missingValuesAsZero": true,
           "numberFormat": "0,0.[00000]",
           "percentFormat": "0[.]00%",
           "series": {
            "error_y": {
             "type": "data",
             "visible": true
            },
            "stacking": null
           },
           "seriesOptions": {
            "column_f7bc4033299": {
             "name": "avg(Watch_Time_Hours)",
             "yAxis": 0
            }
           },
           "showDataLabels": false,
           "sizemode": "diameter",
           "sortX": true,
           "sortY": true,
           "swappedAxes": true,
           "textFormat": "",
           "useAggregationsUi": true,
           "valuesOptions": {},
           "version": 2,
           "xAxis": {
            "labels": {
             "enabled": true
            },
            "type": "-"
           },
           "yAxis": [
            {
             "type": "-"
            },
            {
             "opposite": true,
             "type": "-"
            }
           ]
          }
         }
        ]
       },
       "datasetPreviewNameToCmdIdMap": {},
       "diffDeletes": [],
       "diffInserts": [],
       "displayType": "redashChart",
       "error": null,
       "errorDetails": null,
       "errorSummary": null,
       "errorTraceType": null,
       "finishTime": 0,
       "globalVars": {},
       "guid": "",
       "height": "auto",
       "hideCommandCode": false,
       "hideCommandResult": false,
       "iPythonMetadata": null,
       "inputWidgets": {},
       "isLockedInExamMode": false,
       "latestUser": "a user",
       "latestUserId": null,
       "listResultMetadata": null,
       "metadata": {},
       "nuid": "5119beca-717e-494f-aa84-d370dec21955",
       "origId": 0,
       "parentHierarchy": [],
       "pivotAggregation": null,
       "pivotColumns": null,
       "position": 107.25,
       "resultDbfsErrorMessage": null,
       "resultDbfsStatus": "INLINED_IN_TREE",
       "results": null,
       "showCommandTitle": false,
       "startTime": 0,
       "state": "input",
       "streamStates": {},
       "subcommandOptions": {
        "queryPlan": {
         "groups": [
          {
           "column": "Favorite_Genre",
           "type": "column"
          }
         ],
         "selects": [
          {
           "column": "Favorite_Genre",
           "type": "column"
          },
          {
           "alias": "column_f7bc4033299",
           "args": [
            {
             "column": "avg(Watch_Time_Hours)",
             "type": "column"
            }
           ],
           "function": "SUM",
           "type": "function"
          }
         ]
        }
       },
       "submitTime": 0,
       "subtype": "tableResultSubCmd.visualization",
       "tableResultIndex": 0,
       "tableResultSettingsMap": {},
       "useConsistentColors": false,
       "version": "CommandV1",
       "width": "auto",
       "workflows": [],
       "xColumns": null,
       "yColumns": null
      }
     },
     "output_type": "display_data"
    }
   ],
   "source": [
    "result = df.groupBy(\"Favorite_Genre\") \\\n",
    "           .avg(\"Watch_Time_Hours\") \\\n",
    "           .orderBy(col(\"avg(Watch_Time_Hours)\").desc())\n",
    "\n",
    "display(result)\n"
   ]
  },
  {
   "cell_type": "code",
   "execution_count": 0,
   "metadata": {
    "application/vnd.databricks.v1+cell": {
     "cellMetadata": {
      "byteLimit": 2048000,
      "rowLimit": 10000
     },
     "inputWidgets": {},
     "nuid": "c0fab93a-d354-4fd9-ba81-dc5f1a3fcb4b",
     "showTitle": false,
     "tableResultSettingsMap": {},
     "title": ""
    }
   },
   "outputs": [
    {
     "output_type": "display_data",
     "data": {
      "text/html": [
       "<style scoped>\n",
       "  .table-result-container {\n",
       "    max-height: 300px;\n",
       "    overflow: auto;\n",
       "  }\n",
       "  table, th, td {\n",
       "    border: 1px solid black;\n",
       "    border-collapse: collapse;\n",
       "  }\n",
       "  th, td {\n",
       "    padding: 5px;\n",
       "  }\n",
       "  th {\n",
       "    text-align: left;\n",
       "  }\n",
       "</style><div class='table-result-container'><table class='table-result'><thead style='background-color: white'><tr><th>Subscription_Type</th><th>avg(Watch_Time_Hours)</th></tr></thead><tbody><tr><td>Basic</td><td>502.9946170416447</td></tr><tr><td>Premium</td><td>501.4093870507014</td></tr><tr><td>Standard</td><td>496.94937636495877</td></tr></tbody></table></div>"
      ]
     },
     "metadata": {
      "application/vnd.databricks.v1+output": {
       "addedWidgets": {},
       "aggData": [],
       "aggError": "",
       "aggOverflow": false,
       "aggSchema": [],
       "aggSeriesLimitReached": false,
       "aggType": "",
       "arguments": {},
       "columnCustomDisplayInfos": {},
       "data": [
        [
         "Basic",
         502.9946170416447
        ],
        [
         "Premium",
         501.4093870507014
        ],
        [
         "Standard",
         496.94937636495877
        ]
       ],
       "datasetInfos": [],
       "dbfsResultPath": null,
       "isJsonSchema": true,
       "metadata": {},
       "overflow": false,
       "plotOptions": {
        "customPlotOptions": {},
        "displayType": "table",
        "pivotAggregation": null,
        "pivotColumns": null,
        "xColumns": null,
        "yColumns": null
       },
       "removedWidgets": [],
       "schema": [
        {
         "metadata": "{}",
         "name": "Subscription_Type",
         "type": "\"string\""
        },
        {
         "metadata": "{\"__autoGeneratedAlias\": \"true\"}",
         "name": "avg(Watch_Time_Hours)",
         "type": "\"double\""
        }
       ],
       "type": "table"
      }
     },
     "output_type": "display_data"
    },
    {
     "output_type": "display_data",
     "data": {
      "text/plain": [
       "Databricks visualization. Run in Databricks to view."
      ]
     },
     "metadata": {
      "application/vnd.databricks.v1.subcommand+json": {
       "baseErrorDetails": null,
       "bindings": {},
       "collapsed": false,
       "command": "%python\n__backend_agg_display_orig = display\n__backend_agg_dfs = []\ndef __backend_agg_display_new(df):\n    __backend_agg_df_modules = [\"pandas.core.frame\", \"databricks.koalas.frame\", \"pyspark.sql.dataframe\", \"pyspark.pandas.frame\", \"pyspark.sql.connect.dataframe\"]\n    if (type(df).__module__ in __backend_agg_df_modules and type(df).__name__ == 'DataFrame') or isinstance(df, list):\n        __backend_agg_dfs.append(df)\n\ndisplay = __backend_agg_display_new\n\ndef __backend_agg_user_code_fn():\n    import base64\n    exec(base64.standard_b64decode(\"cmVzdWx0X3N1YnMgPSBkZi5ncm91cEJ5KCJTdWJzY3JpcHRpb25fVHlwZSIpIFwKICAgICAgICAgICAgICAgIC5hdmcoIldhdGNoX1RpbWVfSG91cnMiKSBcCiAgICAgICAgICAgICAgICAub3JkZXJCeShjb2woImF2ZyhXYXRjaF9UaW1lX0hvdXJzKSIpLmRlc2MoKSkKCmRpc3BsYXkocmVzdWx0X3N1YnMpCg==\").decode())\n\ntry:\n    # run user code\n    __backend_agg_user_code_fn()\n\n    #reset display function\n    display = __backend_agg_display_orig\n\n    if len(__backend_agg_dfs) > 0:\n        # create a temp view\n        if type(__backend_agg_dfs[0]).__module__ == \"databricks.koalas.frame\":\n            # koalas dataframe\n            __backend_agg_dfs[0].to_spark().createOrReplaceTempView(\"DatabricksView790c14f\")\n        elif type(__backend_agg_dfs[0]).__module__ == \"pandas.core.frame\" or isinstance(__backend_agg_dfs[0], list):\n            # pandas dataframe\n            spark.createDataFrame(__backend_agg_dfs[0]).createOrReplaceTempView(\"DatabricksView790c14f\")\n        else:\n            __backend_agg_dfs[0].createOrReplaceTempView(\"DatabricksView790c14f\")\n        #run backend agg\n        display(spark.sql(\"\"\"WITH q AS (select * from DatabricksView790c14f) SELECT `Subscription_Type`,SUM(`avg(Watch_Time_Hours)`) `column_f7bc4033302` FROM q GROUP BY `Subscription_Type`\"\"\"))\n    else:\n        displayHTML(\"dataframe no longer exists. If you're using dataframe.display(), use display(dataframe) instead.\")\n\n\nfinally:\n    spark.sql(\"drop view if exists DatabricksView790c14f\")\n    display = __backend_agg_display_orig\n    del __backend_agg_display_new\n    del __backend_agg_display_orig\n    del __backend_agg_dfs\n    del __backend_agg_user_code_fn\n\n",
       "commandTitle": "Visualization 1",
       "commandType": "auto",
       "commandVersion": 0,
       "commentThread": [],
       "commentsVisible": false,
       "contentSha256Hex": null,
       "customPlotOptions": {
        "redashChart": [
         {
          "key": "type",
          "value": "CHART"
         },
         {
          "key": "options",
          "value": {
           "alignYAxesAtZero": true,
           "coefficient": 1,
           "columnConfigurationMap": {
            "x": {
             "column": "Subscription_Type",
             "id": "column_f7bc4033301"
            },
            "y": [
             {
              "column": "avg(Watch_Time_Hours)",
              "id": "column_f7bc4033302",
              "transform": "SUM"
             }
            ]
           },
           "dateTimeFormat": "DD/MM/YYYY HH:mm",
           "direction": {
            "type": "counterclockwise"
           },
           "error_y": {
            "type": "data",
            "visible": true
           },
           "globalSeriesType": "pie",
           "legend": {
            "traceorder": "normal"
           },
           "missingValuesAsZero": true,
           "numberFormat": "0,0.[00000]",
           "percentFormat": "0[.]00%",
           "series": {
            "error_y": {
             "type": "data",
             "visible": true
            },
            "stacking": null
           },
           "seriesOptions": {
            "column_f7bc4033302": {
             "name": "avg(Watch_Time_Hours)",
             "type": "pie",
             "yAxis": 0
            }
           },
           "showDataLabels": true,
           "sizemode": "diameter",
           "sortX": true,
           "sortY": true,
           "swappedAxes": false,
           "textFormat": "",
           "useAggregationsUi": true,
           "valuesOptions": {},
           "version": 2,
           "xAxis": {
            "labels": {
             "enabled": true
            },
            "type": "-"
           },
           "yAxis": [
            {
             "type": "-"
            },
            {
             "opposite": true,
             "type": "-"
            }
           ]
          }
         }
        ]
       },
       "datasetPreviewNameToCmdIdMap": {},
       "diffDeletes": [],
       "diffInserts": [],
       "displayType": "redashChart",
       "error": null,
       "errorDetails": null,
       "errorSummary": null,
       "errorTraceType": null,
       "finishTime": 0,
       "globalVars": {},
       "guid": "",
       "height": "auto",
       "hideCommandCode": false,
       "hideCommandResult": false,
       "iPythonMetadata": null,
       "inputWidgets": {},
       "isLockedInExamMode": false,
       "latestUser": "a user",
       "latestUserId": null,
       "listResultMetadata": null,
       "metadata": {},
       "nuid": "920c7483-448a-4400-81f4-e3ccf84d1450",
       "origId": 0,
       "parentHierarchy": [],
       "pivotAggregation": null,
       "pivotColumns": null,
       "position": 108.25,
       "resultDbfsErrorMessage": null,
       "resultDbfsStatus": "INLINED_IN_TREE",
       "results": null,
       "showCommandTitle": false,
       "startTime": 0,
       "state": "input",
       "streamStates": {},
       "subcommandOptions": {
        "queryPlan": {
         "groups": [
          {
           "column": "Subscription_Type",
           "type": "column"
          }
         ],
         "selects": [
          {
           "column": "Subscription_Type",
           "type": "column"
          },
          {
           "alias": "column_f7bc4033302",
           "args": [
            {
             "column": "avg(Watch_Time_Hours)",
             "type": "column"
            }
           ],
           "function": "SUM",
           "type": "function"
          }
         ]
        }
       },
       "submitTime": 0,
       "subtype": "tableResultSubCmd.visualization",
       "tableResultIndex": 0,
       "tableResultSettingsMap": {},
       "useConsistentColors": false,
       "version": "CommandV1",
       "width": "auto",
       "workflows": [],
       "xColumns": null,
       "yColumns": null
      }
     },
     "output_type": "display_data"
    }
   ],
   "source": [
    "result_subs = df.groupBy(\"Subscription_Type\") \\\n",
    "                .avg(\"Watch_Time_Hours\") \\\n",
    "                .orderBy(col(\"avg(Watch_Time_Hours)\").desc())\n",
    "\n",
    "display(result_subs)\n"
   ]
  },
  {
   "cell_type": "code",
   "execution_count": 0,
   "metadata": {
    "application/vnd.databricks.v1+cell": {
     "cellMetadata": {
      "byteLimit": 2048000,
      "rowLimit": 10000
     },
     "inputWidgets": {},
     "nuid": "0a7535d7-93fc-45b6-8a82-0a5a31afdcd7",
     "showTitle": false,
     "tableResultSettingsMap": {},
     "title": ""
    }
   },
   "outputs": [
    {
     "output_type": "display_data",
     "data": {
      "text/html": [
       "<style scoped>\n",
       "  .table-result-container {\n",
       "    max-height: 300px;\n",
       "    overflow: auto;\n",
       "  }\n",
       "  table, th, td {\n",
       "    border: 1px solid black;\n",
       "    border-collapse: collapse;\n",
       "  }\n",
       "  th, td {\n",
       "    padding: 5px;\n",
       "  }\n",
       "  th {\n",
       "    text-align: left;\n",
       "  }\n",
       "</style><div class='table-result-container'><table class='table-result'><thead style='background-color: white'><tr><th>Country</th><th>Favorite_Genre</th><th>User_Count</th></tr></thead><tbody><tr><td>Australia</td><td>Documentary</td><td>368</td></tr><tr><td>Australia</td><td>Romance</td><td>358</td></tr><tr><td>Australia</td><td>Sci-Fi</td><td>352</td></tr><tr><td>Australia</td><td>Horror</td><td>351</td></tr><tr><td>Australia</td><td>Drama</td><td>348</td></tr><tr><td>Australia</td><td>Comedy</td><td>330</td></tr><tr><td>Australia</td><td>Action</td><td>330</td></tr><tr><td>Brazil</td><td>Romance</td><td>376</td></tr><tr><td>Brazil</td><td>Comedy</td><td>373</td></tr><tr><td>Brazil</td><td>Action</td><td>364</td></tr><tr><td>Brazil</td><td>Horror</td><td>363</td></tr><tr><td>Brazil</td><td>Documentary</td><td>348</td></tr><tr><td>Brazil</td><td>Drama</td><td>342</td></tr><tr><td>Brazil</td><td>Sci-Fi</td><td>337</td></tr><tr><td>Canada</td><td>Action</td><td>378</td></tr><tr><td>Canada</td><td>Documentary</td><td>374</td></tr><tr><td>Canada</td><td>Drama</td><td>368</td></tr><tr><td>Canada</td><td>Comedy</td><td>363</td></tr><tr><td>Canada</td><td>Horror</td><td>358</td></tr><tr><td>Canada</td><td>Romance</td><td>328</td></tr><tr><td>Canada</td><td>Sci-Fi</td><td>321</td></tr><tr><td>France</td><td>Documentary</td><td>378</td></tr><tr><td>France</td><td>Action</td><td>367</td></tr><tr><td>France</td><td>Horror</td><td>364</td></tr><tr><td>France</td><td>Drama</td><td>360</td></tr><tr><td>France</td><td>Comedy</td><td>347</td></tr><tr><td>France</td><td>Romance</td><td>335</td></tr><tr><td>France</td><td>Sci-Fi</td><td>322</td></tr><tr><td>Germany</td><td>Sci-Fi</td><td>385</td></tr><tr><td>Germany</td><td>Horror</td><td>382</td></tr><tr><td>Germany</td><td>Comedy</td><td>372</td></tr><tr><td>Germany</td><td>Action</td><td>370</td></tr><tr><td>Germany</td><td>Romance</td><td>369</td></tr><tr><td>Germany</td><td>Documentary</td><td>340</td></tr><tr><td>Germany</td><td>Drama</td><td>329</td></tr><tr><td>India</td><td>Romance</td><td>399</td></tr><tr><td>India</td><td>Action</td><td>372</td></tr><tr><td>India</td><td>Horror</td><td>370</td></tr><tr><td>India</td><td>Comedy</td><td>360</td></tr><tr><td>India</td><td>Sci-Fi</td><td>340</td></tr><tr><td>India</td><td>Documentary</td><td>333</td></tr><tr><td>India</td><td>Drama</td><td>331</td></tr><tr><td>Japan</td><td>Documentary</td><td>372</td></tr><tr><td>Japan</td><td>Drama</td><td>371</td></tr><tr><td>Japan</td><td>Horror</td><td>361</td></tr><tr><td>Japan</td><td>Romance</td><td>349</td></tr><tr><td>Japan</td><td>Sci-Fi</td><td>340</td></tr><tr><td>Japan</td><td>Action</td><td>333</td></tr><tr><td>Japan</td><td>Comedy</td><td>331</td></tr><tr><td>Mexico</td><td>Documentary</td><td>370</td></tr><tr><td>Mexico</td><td>Sci-Fi</td><td>366</td></tr><tr><td>Mexico</td><td>Romance</td><td>356</td></tr><tr><td>Mexico</td><td>Action</td><td>355</td></tr><tr><td>Mexico</td><td>Horror</td><td>355</td></tr><tr><td>Mexico</td><td>Drama</td><td>347</td></tr><tr><td>Mexico</td><td>Comedy</td><td>344</td></tr><tr><td>UK</td><td>Horror</td><td>399</td></tr><tr><td>UK</td><td>Sci-Fi</td><td>373</td></tr><tr><td>UK</td><td>Documentary</td><td>373</td></tr><tr><td>UK</td><td>Comedy</td><td>370</td></tr><tr><td>UK</td><td>Action</td><td>360</td></tr><tr><td>UK</td><td>Drama</td><td>359</td></tr><tr><td>UK</td><td>Romance</td><td>358</td></tr><tr><td>USA</td><td>Documentary</td><td>380</td></tr><tr><td>USA</td><td>Drama</td><td>378</td></tr><tr><td>USA</td><td>Comedy</td><td>371</td></tr><tr><td>USA</td><td>Action</td><td>360</td></tr><tr><td>USA</td><td>Horror</td><td>351</td></tr><tr><td>USA</td><td>Romance</td><td>344</td></tr><tr><td>USA</td><td>Sci-Fi</td><td>319</td></tr></tbody></table></div>"
      ]
     },
     "metadata": {
      "application/vnd.databricks.v1+output": {
       "addedWidgets": {},
       "aggData": [],
       "aggError": "",
       "aggOverflow": false,
       "aggSchema": [],
       "aggSeriesLimitReached": false,
       "aggType": "",
       "arguments": {},
       "columnCustomDisplayInfos": {},
       "data": [
        [
         "Australia",
         "Documentary",
         368
        ],
        [
         "Australia",
         "Romance",
         358
        ],
        [
         "Australia",
         "Sci-Fi",
         352
        ],
        [
         "Australia",
         "Horror",
         351
        ],
        [
         "Australia",
         "Drama",
         348
        ],
        [
         "Australia",
         "Comedy",
         330
        ],
        [
         "Australia",
         "Action",
         330
        ],
        [
         "Brazil",
         "Romance",
         376
        ],
        [
         "Brazil",
         "Comedy",
         373
        ],
        [
         "Brazil",
         "Action",
         364
        ],
        [
         "Brazil",
         "Horror",
         363
        ],
        [
         "Brazil",
         "Documentary",
         348
        ],
        [
         "Brazil",
         "Drama",
         342
        ],
        [
         "Brazil",
         "Sci-Fi",
         337
        ],
        [
         "Canada",
         "Action",
         378
        ],
        [
         "Canada",
         "Documentary",
         374
        ],
        [
         "Canada",
         "Drama",
         368
        ],
        [
         "Canada",
         "Comedy",
         363
        ],
        [
         "Canada",
         "Horror",
         358
        ],
        [
         "Canada",
         "Romance",
         328
        ],
        [
         "Canada",
         "Sci-Fi",
         321
        ],
        [
         "France",
         "Documentary",
         378
        ],
        [
         "France",
         "Action",
         367
        ],
        [
         "France",
         "Horror",
         364
        ],
        [
         "France",
         "Drama",
         360
        ],
        [
         "France",
         "Comedy",
         347
        ],
        [
         "France",
         "Romance",
         335
        ],
        [
         "France",
         "Sci-Fi",
         322
        ],
        [
         "Germany",
         "Sci-Fi",
         385
        ],
        [
         "Germany",
         "Horror",
         382
        ],
        [
         "Germany",
         "Comedy",
         372
        ],
        [
         "Germany",
         "Action",
         370
        ],
        [
         "Germany",
         "Romance",
         369
        ],
        [
         "Germany",
         "Documentary",
         340
        ],
        [
         "Germany",
         "Drama",
         329
        ],
        [
         "India",
         "Romance",
         399
        ],
        [
         "India",
         "Action",
         372
        ],
        [
         "India",
         "Horror",
         370
        ],
        [
         "India",
         "Comedy",
         360
        ],
        [
         "India",
         "Sci-Fi",
         340
        ],
        [
         "India",
         "Documentary",
         333
        ],
        [
         "India",
         "Drama",
         331
        ],
        [
         "Japan",
         "Documentary",
         372
        ],
        [
         "Japan",
         "Drama",
         371
        ],
        [
         "Japan",
         "Horror",
         361
        ],
        [
         "Japan",
         "Romance",
         349
        ],
        [
         "Japan",
         "Sci-Fi",
         340
        ],
        [
         "Japan",
         "Action",
         333
        ],
        [
         "Japan",
         "Comedy",
         331
        ],
        [
         "Mexico",
         "Documentary",
         370
        ],
        [
         "Mexico",
         "Sci-Fi",
         366
        ],
        [
         "Mexico",
         "Romance",
         356
        ],
        [
         "Mexico",
         "Action",
         355
        ],
        [
         "Mexico",
         "Horror",
         355
        ],
        [
         "Mexico",
         "Drama",
         347
        ],
        [
         "Mexico",
         "Comedy",
         344
        ],
        [
         "UK",
         "Horror",
         399
        ],
        [
         "UK",
         "Sci-Fi",
         373
        ],
        [
         "UK",
         "Documentary",
         373
        ],
        [
         "UK",
         "Comedy",
         370
        ],
        [
         "UK",
         "Action",
         360
        ],
        [
         "UK",
         "Drama",
         359
        ],
        [
         "UK",
         "Romance",
         358
        ],
        [
         "USA",
         "Documentary",
         380
        ],
        [
         "USA",
         "Drama",
         378
        ],
        [
         "USA",
         "Comedy",
         371
        ],
        [
         "USA",
         "Action",
         360
        ],
        [
         "USA",
         "Horror",
         351
        ],
        [
         "USA",
         "Romance",
         344
        ],
        [
         "USA",
         "Sci-Fi",
         319
        ]
       ],
       "datasetInfos": [],
       "dbfsResultPath": null,
       "isJsonSchema": true,
       "metadata": {},
       "overflow": false,
       "plotOptions": {
        "customPlotOptions": {},
        "displayType": "table",
        "pivotAggregation": null,
        "pivotColumns": null,
        "xColumns": null,
        "yColumns": null
       },
       "removedWidgets": [],
       "schema": [
        {
         "metadata": "{}",
         "name": "Country",
         "type": "\"string\""
        },
        {
         "metadata": "{}",
         "name": "Favorite_Genre",
         "type": "\"string\""
        },
        {
         "metadata": "{}",
         "name": "User_Count",
         "type": "\"long\""
        }
       ],
       "type": "table"
      }
     },
     "output_type": "display_data"
    },
    {
     "output_type": "display_data",
     "data": {
      "text/plain": [
       "Databricks visualization. Run in Databricks to view."
      ]
     },
     "metadata": {
      "application/vnd.databricks.v1.subcommand+json": {
       "baseErrorDetails": null,
       "bindings": {},
       "collapsed": false,
       "command": "%python\n__backend_agg_display_orig = display\n__backend_agg_dfs = []\ndef __backend_agg_display_new(df):\n    __backend_agg_df_modules = [\"pandas.core.frame\", \"databricks.koalas.frame\", \"pyspark.sql.dataframe\", \"pyspark.pandas.frame\", \"pyspark.sql.connect.dataframe\"]\n    if (type(df).__module__ in __backend_agg_df_modules and type(df).__name__ == 'DataFrame') or isinstance(df, list):\n        __backend_agg_dfs.append(df)\n\ndisplay = __backend_agg_display_new\n\ndef __backend_agg_user_code_fn():\n    import base64\n    exec(base64.standard_b64decode(\"ZnJvbSBweXNwYXJrLnNxbC5mdW5jdGlvbnMgaW1wb3J0IGNvdW50CgpyZXN1bHRfZ2VucmVfY291bnRyeSA9IGRmLmdyb3VwQnkoIkNvdW50cnkiLCAiRmF2b3JpdGVfR2VucmUiKSBcCiAgICAgICAgICAgICAgICAgICAgICAgICAgLmFnZyhjb3VudCgiKiIpLmFsaWFzKCJVc2VyX0NvdW50IikpIFwKICAgICAgICAgICAgICAgICAgICAgICAgICAub3JkZXJCeSgiQ291bnRyeSIsIGNvbCgiVXNlcl9Db3VudCIpLmRlc2MoKSkKCmRpc3BsYXkocmVzdWx0X2dlbnJlX2NvdW50cnkpCg==\").decode())\n\ntry:\n    # run user code\n    __backend_agg_user_code_fn()\n\n    #reset display function\n    display = __backend_agg_display_orig\n\n    if len(__backend_agg_dfs) > 0:\n        # create a temp view\n        if type(__backend_agg_dfs[0]).__module__ == \"databricks.koalas.frame\":\n            # koalas dataframe\n            __backend_agg_dfs[0].to_spark().createOrReplaceTempView(\"DatabricksView6c202b9\")\n        elif type(__backend_agg_dfs[0]).__module__ == \"pandas.core.frame\" or isinstance(__backend_agg_dfs[0], list):\n            # pandas dataframe\n            spark.createDataFrame(__backend_agg_dfs[0]).createOrReplaceTempView(\"DatabricksView6c202b9\")\n        else:\n            __backend_agg_dfs[0].createOrReplaceTempView(\"DatabricksView6c202b9\")\n        #run backend agg\n        display(spark.sql(\"\"\"WITH q AS (select * from DatabricksView6c202b9) SELECT `Country`,`Favorite_Genre`,SUM(`User_Count`) `column_f7bc4033296` FROM q GROUP BY `Country`,`Favorite_Genre`\"\"\"))\n    else:\n        displayHTML(\"dataframe no longer exists. If you're using dataframe.display(), use display(dataframe) instead.\")\n\n\nfinally:\n    spark.sql(\"drop view if exists DatabricksView6c202b9\")\n    display = __backend_agg_display_orig\n    del __backend_agg_display_new\n    del __backend_agg_display_orig\n    del __backend_agg_dfs\n    del __backend_agg_user_code_fn\n\n",
       "commandTitle": "Visualization 1",
       "commandType": "auto",
       "commandVersion": 0,
       "commentThread": [],
       "commentsVisible": false,
       "contentSha256Hex": null,
       "customPlotOptions": {
        "redashChart": [
         {
          "key": "type",
          "value": "CHART"
         },
         {
          "key": "options",
          "value": {
           "alignYAxesAtZero": true,
           "coefficient": 1,
           "columnConfigurationMap": {
            "series": {
             "column": "Favorite_Genre",
             "id": "column_f7bc4033295"
            },
            "x": {
             "column": "Country",
             "id": "column_f7bc4033294"
            },
            "y": [
             {
              "column": "User_Count",
              "id": "column_f7bc4033296",
              "transform": "SUM"
             }
            ]
           },
           "dateTimeFormat": "DD/MM/YYYY HH:mm",
           "direction": {
            "type": "counterclockwise"
           },
           "error_y": {
            "type": "data",
            "visible": true
           },
           "globalSeriesType": "column",
           "legend": {
            "traceorder": "normal"
           },
           "missingValuesAsZero": true,
           "numberFormat": "0,0.[00000]",
           "percentFormat": "0[.]00%",
           "series": {
            "error_y": {
             "type": "data",
             "visible": true
            },
            "stacking": "stack"
           },
           "seriesOptions": {
            "column_f7bc4033296": {
             "name": "User_Count",
             "yAxis": 0
            }
           },
           "showDataLabels": false,
           "sizemode": "diameter",
           "sortX": true,
           "sortY": true,
           "swappedAxes": true,
           "textFormat": "",
           "useAggregationsUi": true,
           "valuesOptions": {},
           "version": 2,
           "xAxis": {
            "labels": {
             "enabled": true
            },
            "type": "-"
           },
           "yAxis": [
            {
             "type": "-"
            },
            {
             "opposite": true,
             "type": "-"
            }
           ]
          }
         }
        ]
       },
       "datasetPreviewNameToCmdIdMap": {},
       "diffDeletes": [],
       "diffInserts": [],
       "displayType": "redashChart",
       "error": null,
       "errorDetails": null,
       "errorSummary": null,
       "errorTraceType": null,
       "finishTime": 0,
       "globalVars": {},
       "guid": "",
       "height": "auto",
       "hideCommandCode": false,
       "hideCommandResult": false,
       "iPythonMetadata": null,
       "inputWidgets": {},
       "isLockedInExamMode": false,
       "latestUser": "a user",
       "latestUserId": null,
       "listResultMetadata": null,
       "metadata": {},
       "nuid": "32b2d106-ebe4-4c0e-8573-d8bfb3555510",
       "origId": 0,
       "parentHierarchy": [],
       "pivotAggregation": null,
       "pivotColumns": null,
       "position": 109.25,
       "resultDbfsErrorMessage": null,
       "resultDbfsStatus": "INLINED_IN_TREE",
       "results": null,
       "showCommandTitle": false,
       "startTime": 0,
       "state": "input",
       "streamStates": {},
       "subcommandOptions": {
        "queryPlan": {
         "groups": [
          {
           "column": "Country",
           "type": "column"
          },
          {
           "column": "Favorite_Genre",
           "type": "column"
          }
         ],
         "selects": [
          {
           "column": "Country",
           "type": "column"
          },
          {
           "column": "Favorite_Genre",
           "type": "column"
          },
          {
           "alias": "column_f7bc4033296",
           "args": [
            {
             "column": "User_Count",
             "type": "column"
            }
           ],
           "function": "SUM",
           "type": "function"
          }
         ]
        }
       },
       "submitTime": 0,
       "subtype": "tableResultSubCmd.visualization",
       "tableResultIndex": 0,
       "tableResultSettingsMap": {},
       "useConsistentColors": false,
       "version": "CommandV1",
       "width": "auto",
       "workflows": [],
       "xColumns": null,
       "yColumns": null
      }
     },
     "output_type": "display_data"
    }
   ],
   "source": [
    "from pyspark.sql.functions import count\n",
    "\n",
    "result_genre_country = df.groupBy(\"Country\", \"Favorite_Genre\") \\\n",
    "                          .agg(count(\"*\").alias(\"User_Count\")) \\\n",
    "                          .orderBy(\"Country\", col(\"User_Count\").desc())\n",
    "\n",
    "display(result_genre_country)\n"
   ]
  },
  {
   "cell_type": "code",
   "execution_count": 0,
   "metadata": {
    "application/vnd.databricks.v1+cell": {
     "cellMetadata": {},
     "inputWidgets": {},
     "nuid": "915ab54e-cbed-4c12-af3c-e8f5ab5b975c",
     "showTitle": false,
     "tableResultSettingsMap": {},
     "title": ""
    }
   },
   "outputs": [],
   "source": []
  }
 ],
 "metadata": {
  "application/vnd.databricks.v1+notebook": {
   "computePreferences": null,
   "dashboards": [],
   "environmentMetadata": {
    "base_environment": "",
    "environment_version": "2"
   },
   "inputWidgetPreferences": null,
   "language": "python",
   "notebookMetadata": {
    "pythonIndentUnit": 4
   },
   "notebookName": "Untitled Notebook 2025-07-25 06:26:20",
   "widgets": {}
  },
  "language_info": {
   "name": "python"
  }
 },
 "nbformat": 4,
 "nbformat_minor": 0
}